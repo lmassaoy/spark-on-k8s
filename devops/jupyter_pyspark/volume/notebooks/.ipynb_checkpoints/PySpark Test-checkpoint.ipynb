{
 "cells": [
  {
   "cell_type": "code",
   "execution_count": 17,
   "metadata": {},
   "outputs": [],
   "source": [
    "from pyspark.sql import SparkSession\n",
    "\n",
    "spark = SparkSession.builder.master('local').getOrCreate()\n",
    "sc = spark.sparkContext\n",
    "\n",
    "review_df = spark.read.parquet(\"../datasets/user_reviews.parquet\")\n",
    "review_df.createOrReplaceTempView(\"reviews\")"
   ]
  },
  {
   "cell_type": "code",
   "execution_count": 7,
   "metadata": {},
   "outputs": [
    {
     "name": "stdout",
     "output_type": "stream",
     "text": [
      "+---------------+-----------+--------------+-----+-----+--------------------+--------------------+\n",
      "|       username|review_type|published_date|score|votes|         review_text|         profile_url|\n",
      "+---------------+-----------+--------------+-----+-----+--------------------+--------------------+\n",
      "|     Xalencelph|       user|  Jun 11, 2020|    2|    0|A good game to pl...|https://www.metac...|\n",
      "|      DrPiipocO|       user|  Jun 11, 2020|    9|    0|Muito bom porém n...|https://www.metac...|\n",
      "|       Mirzahan|       user|  Jun 11, 2020|    2|    0|I was expecting m...|https://www.metac...|\n",
      "|        Uncleho|       user|  Jun 11, 2020|    8|    1|Good FPS game and...|https://www.metac...|\n",
      "|     rpzdylilim|       user|  Jun 11, 2020|    2|    1|The game is a bas...|https://www.metac...|\n",
      "|Turkeyisnotmeat|       user|  Jun 11, 2020|    0|    1|1.Maps Are Broken...|https://www.metac...|\n",
      "|       ItsDerpy|       user|  Jun 11, 2020|    7|    1|Valorant is a goo...|https://www.metac...|\n",
      "|          pmant|       user|  Jun 11, 2020|    8|    1|Well, not an amaz...|https://www.metac...|\n",
      "|     v4vendetta|       user|  Jun 11, 2020|   10|    1|Awesome game that...|https://www.metac...|\n",
      "|       LiskaUwU|       user|  Jun 11, 2020|    0|    1|Бан по причине \"н...|https://www.metac...|\n",
      "|    madamadajoe|       user|  Jun 11, 2020|    0|    8|I quit Valorant a...|https://www.metac...|\n",
      "|          6x9ni|       user|  Jun 10, 2020|   10|    2|This so good veee...|https://www.metac...|\n",
      "|   Benjamin4499|       user|  Jun 10, 2020|    9|    2|I love Valorant. ...|https://www.metac...|\n",
      "|        OLYMPV5|       user|  Jun 10, 2020|    7|    2|So, upon release ...|https://www.metac...|\n",
      "|    Stereonight|       user|  Jun 10, 2020|    0|    2|boring agents. ba...|https://www.metac...|\n",
      "+---------------+-----------+--------------+-----+-----+--------------------+--------------------+\n",
      "only showing top 15 rows\n",
      "\n"
     ]
    }
   ],
   "source": [
    "review_df.show(10,True)"
   ]
  },
  {
   "cell_type": "code",
   "execution_count": 18,
   "metadata": {},
   "outputs": [
    {
     "name": "stdout",
     "output_type": "stream",
     "text": [
      "+-----+-------------+\n",
      "|score|count_reviews|\n",
      "+-----+-------------+\n",
      "|    0|          264|\n",
      "|    1|           73|\n",
      "|    2|           64|\n",
      "|    3|           44|\n",
      "|    4|           55|\n",
      "|    5|           45|\n",
      "|    6|           20|\n",
      "|    7|           28|\n",
      "|    8|           63|\n",
      "|    9|           68|\n",
      "|   10|          285|\n",
      "+-----+-------------+\n",
      "\n"
     ]
    }
   ],
   "source": [
    "q = \"select cast(score as int), count(score) as count_reviews from reviews group by cast(score as int) order by cast(score as int)\"\n",
    "spark.sql(q).show()"
   ]
  },
  {
   "cell_type": "code",
   "execution_count": 16,
   "metadata": {},
   "outputs": [],
   "source": [
    "spark.sparkContext.stop()"
   ]
  },
  {
   "cell_type": "code",
   "execution_count": null,
   "metadata": {},
   "outputs": [],
   "source": []
  }
 ],
 "metadata": {
  "kernelspec": {
   "display_name": "Python 3",
   "language": "python",
   "name": "python3"
  },
  "language_info": {
   "codemirror_mode": {
    "name": "ipython",
    "version": 3
   },
   "file_extension": ".py",
   "mimetype": "text/x-python",
   "name": "python",
   "nbconvert_exporter": "python",
   "pygments_lexer": "ipython3",
   "version": "3.8.4"
  }
 },
 "nbformat": 4,
 "nbformat_minor": 4
}
